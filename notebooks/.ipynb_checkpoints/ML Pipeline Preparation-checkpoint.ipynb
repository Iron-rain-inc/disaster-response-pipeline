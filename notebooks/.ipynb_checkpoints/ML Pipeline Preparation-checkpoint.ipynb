{
 "cells": [
  {
   "cell_type": "markdown",
   "metadata": {},
   "source": [
    "# ML Pipeline Preparation\n",
    "Follow the instructions below to help you create your ML pipeline.\n",
    "### 1. Import libraries and load data from database.\n",
    "- Import Python libraries\n",
    "- Load dataset from database with [`read_sql_table`](https://pandas.pydata.org/pandas-docs/stable/generated/pandas.read_sql_table.html)\n",
    "- Define feature and target variables X and Y"
   ]
  },
  {
   "cell_type": "code",
   "execution_count": 4,
   "metadata": {},
   "outputs": [
    {
     "name": "stderr",
     "output_type": "stream",
     "text": [
      "/opt/conda/lib/python3.6/importlib/_bootstrap.py:219: RuntimeWarning: numpy.dtype size changed, may indicate binary incompatibility. Expected 96, got 88\n",
      "  return f(*args, **kwds)\n",
      "/opt/conda/lib/python3.6/importlib/_bootstrap.py:219: ImportWarning: can't resolve package from __spec__ or __package__, falling back on __name__ and __path__\n",
      "  return f(*args, **kwds)\n"
     ]
    },
    {
     "name": "stdout",
     "output_type": "stream",
     "text": [
      "[nltk_data] Downloading package punkt to /root/nltk_data...\n",
      "[nltk_data]   Unzipping tokenizers/punkt.zip.\n",
      "[nltk_data] Downloading package wordnet to /root/nltk_data...\n",
      "[nltk_data]   Unzipping corpora/wordnet.zip.\n",
      "[nltk_data] Downloading package averaged_perceptron_tagger to\n",
      "[nltk_data]     /root/nltk_data...\n",
      "[nltk_data]   Unzipping taggers/averaged_perceptron_tagger.zip.\n"
     ]
    },
    {
     "name": "stderr",
     "output_type": "stream",
     "text": [
      "/opt/conda/lib/python3.6/importlib/_bootstrap_external.py:426: ImportWarning: Not importing directory /opt/conda/lib/python3.6/site-packages/google: missing __init__\n",
      "  _warnings.warn(msg.format(portions[0]), ImportWarning)\n",
      "/opt/conda/lib/python3.6/importlib/_bootstrap_external.py:426: ImportWarning: Not importing directory /opt/conda/lib/python3.6/site-packages/mpl_toolkits: missing __init__\n",
      "  _warnings.warn(msg.format(portions[0]), ImportWarning)\n",
      "/opt/conda/lib/python3.6/importlib/_bootstrap.py:219: ImportWarning: can't resolve package from __spec__ or __package__, falling back on __name__ and __path__\n",
      "  return f(*args, **kwds)\n",
      "/opt/conda/lib/python3.6/importlib/_bootstrap.py:219: RuntimeWarning: numpy.dtype size changed, may indicate binary incompatibility. Expected 96, got 88\n",
      "  return f(*args, **kwds)\n",
      "/opt/conda/lib/python3.6/importlib/_bootstrap.py:219: ImportWarning: can't resolve package from __spec__ or __package__, falling back on __name__ and __path__\n",
      "  return f(*args, **kwds)\n"
     ]
    }
   ],
   "source": [
    "# import libraries\n",
    "import nltk\n",
    "nltk.download(['punkt', 'wordnet', 'averaged_perceptron_tagger'])\n",
    "import re\n",
    "import numpy as np\n",
    "import pandas as pd\n",
    "\n",
    "from sqlalchemy import create_engine\n",
    "from nltk.tokenize import word_tokenize\n",
    "from nltk.stem import WordNetLemmatizer\n",
    "from sklearn.model_selection import GridSearchCV\n",
    "from sklearn.ensemble import RandomForestClassifier\n",
    "from sklearn.model_selection import train_test_split\n",
    "from sklearn.pipeline import Pipeline, FeatureUnion\n",
    "from sklearn.multioutput import MultiOutputClassifier\n",
    "from sklearn.multiclass import OneVsRestClassifier\n",
    "from sklearn.linear_model import SGDClassifier\n",
    "from sklearn.base import BaseEstimator, TransformerMixin\n",
    "from sklearn.feature_extraction.text import CountVectorizer, TfidfTransformer"
   ]
  },
  {
   "cell_type": "code",
   "execution_count": 5,
   "metadata": {},
   "outputs": [],
   "source": [
    "# load data from database\n",
    "engine = create_engine('sqlite:///cleaned_message_data.db')\n",
    "df = pd.read_sql(sql=\"SELECT * FROM MessageData\", con=engine)\n",
    "X = df['message'].values\n",
    "Y = df.drop(['id','message','original','genre'], axis=1)"
   ]
  },
  {
   "cell_type": "markdown",
   "metadata": {},
   "source": [
    "### 2. Write a tokenization function to process your text data"
   ]
  },
  {
   "cell_type": "code",
   "execution_count": 6,
   "metadata": {},
   "outputs": [],
   "source": [
    "def tokenize(text):\n",
    "    tokens = word_tokenize(text)\n",
    "    lemmatizer = WordNetLemmatizer()\n",
    "    \n",
    "    clean_tokens = []\n",
    "    for tok in tokens:\n",
    "        clean_tok = lemmatizer.lemmatize(tok).lower().strip()\n",
    "        clean_tokens.append(clean_tok)\n",
    "        \n",
    "    return clean_tokens"
   ]
  },
  {
   "cell_type": "markdown",
   "metadata": {},
   "source": [
    "### 3. Build a machine learning pipeline\n",
    "This machine pipeline should take in the `message` column as input and output classification results on the other 36 categories in the dataset. You may find the [MultiOutputClassifier](http://scikit-learn.org/stable/modules/generated/sklearn.multioutput.MultiOutputClassifier.html) helpful for predicting multiple target variables."
   ]
  },
  {
   "cell_type": "code",
   "execution_count": 7,
   "metadata": {},
   "outputs": [],
   "source": [
    "pipeline = Pipeline([\n",
    "    ('features', FeatureUnion([\n",
    "        ('text_pipeline', Pipeline([\n",
    "            ('vect', CountVectorizer(tokenizer=tokenize)),\n",
    "            ('tfidf', TfidfTransformer())\n",
    "        ])),\n",
    "    ])),\n",
    "     ('clf', MultiOutputClassifier(OneVsRestClassifier(SGDClassifier())))\n",
    "])"
   ]
  },
  {
   "cell_type": "markdown",
   "metadata": {},
   "source": [
    "### 4. Train pipeline\n",
    "- Split data into train and test sets\n",
    "- Train pipeline"
   ]
  },
  {
   "cell_type": "code",
   "execution_count": 8,
   "metadata": {},
   "outputs": [],
   "source": [
    "X_train, X_test, y_train, y_test = train_test_split(X, Y)"
   ]
  },
  {
   "cell_type": "code",
   "execution_count": 9,
   "metadata": {},
   "outputs": [
    {
     "data": {
      "text/plain": [
       "Pipeline(memory=None,\n",
       "     steps=[('features', FeatureUnion(n_jobs=1,\n",
       "       transformer_list=[('text_pipeline', Pipeline(memory=None,\n",
       "     steps=[('vect', CountVectorizer(analyzer='word', binary=False, decode_error='strict',\n",
       "        dtype=<class 'numpy.int64'>, encoding='utf-8', input='content',\n",
       "        lowercase=True, max_d...   shuffle=True, tol=None, verbose=0, warm_start=False),\n",
       "          n_jobs=1),\n",
       "           n_jobs=1))])"
      ]
     },
     "execution_count": 9,
     "metadata": {},
     "output_type": "execute_result"
    }
   ],
   "source": [
    "import warnings; warnings.simplefilter('ignore')\n",
    "\n",
    "pipeline.fit(X_train, y_train)"
   ]
  },
  {
   "cell_type": "code",
   "execution_count": 10,
   "metadata": {},
   "outputs": [],
   "source": [
    "y_pred = pipeline.predict(X_test)"
   ]
  },
  {
   "cell_type": "code",
   "execution_count": 11,
   "metadata": {},
   "outputs": [],
   "source": [
    "def display_model_results(y_test, y_pred):\n",
    "    labels = np.unique(y_pred)\n",
    "    accuracy = (y_pred == y_test).mean()\n",
    "\n",
    "    print(\"Labels:\", labels)    \n",
    "    print(\"Accuracy:\", accuracy)    \n"
   ]
  },
  {
   "cell_type": "markdown",
   "metadata": {},
   "source": [
    "### 5. Test your model\n",
    "Report the f1 score, precision and recall for each output category of the dataset. You can do this by iterating through the columns and calling sklearn's `classification_report` on each."
   ]
  },
  {
   "cell_type": "code",
   "execution_count": 12,
   "metadata": {
    "scrolled": true
   },
   "outputs": [
    {
     "name": "stdout",
     "output_type": "stream",
     "text": [
      "Labels: [0 1 2]\n",
      "Accuracy: related                   0.821941\n",
      "request                   0.905401\n",
      "offer                     0.995880\n",
      "aid_related               0.787916\n",
      "medical_help              0.922948\n",
      "medical_products          0.956973\n",
      "search_and_rescue         0.972841\n",
      "security                  0.980165\n",
      "military                  0.969484\n",
      "child_alone               1.000000\n",
      "water                     0.963686\n",
      "food                      0.954074\n",
      "shelter                   0.950412\n",
      "clothing                  0.987489\n",
      "money                     0.980317\n",
      "missing_people            0.988709\n",
      "refugees                  0.968569\n",
      "death                     0.967501\n",
      "other_aid                 0.871987\n",
      "infrastructure_related    0.932560\n",
      "transport                 0.957431\n",
      "buildings                 0.959262\n",
      "electricity               0.977418\n",
      "tools                     0.994507\n",
      "hospitals                 0.988557\n",
      "shops                     0.996033\n",
      "aid_centers               0.988862\n",
      "other_infrastructure      0.954074\n",
      "weather_related           0.876259\n",
      "floods                    0.956363\n",
      "storm                     0.944614\n",
      "fire                      0.989319\n",
      "earthquake                0.969789\n",
      "cold                      0.979707\n",
      "other_weather             0.946140\n",
      "direct_report             0.878090\n",
      "dtype: float64\n"
     ]
    }
   ],
   "source": [
    "display_model_results(y_test, y_pred)"
   ]
  },
  {
   "cell_type": "markdown",
   "metadata": {},
   "source": [
    "### 6. Improve your model\n",
    "Use grid search to find better parameters. "
   ]
  },
  {
   "cell_type": "code",
   "execution_count": 13,
   "metadata": {},
   "outputs": [
    {
     "name": "stdout",
     "output_type": "stream",
     "text": [
      "memory\n",
      "steps\n",
      "features\n",
      "clf\n",
      "features__n_jobs\n",
      "features__transformer_list\n",
      "features__transformer_weights\n",
      "features__text_pipeline\n",
      "features__text_pipeline__memory\n",
      "features__text_pipeline__steps\n",
      "features__text_pipeline__vect\n",
      "features__text_pipeline__tfidf\n",
      "features__text_pipeline__vect__analyzer\n",
      "features__text_pipeline__vect__binary\n",
      "features__text_pipeline__vect__decode_error\n",
      "features__text_pipeline__vect__dtype\n",
      "features__text_pipeline__vect__encoding\n",
      "features__text_pipeline__vect__input\n",
      "features__text_pipeline__vect__lowercase\n",
      "features__text_pipeline__vect__max_df\n",
      "features__text_pipeline__vect__max_features\n",
      "features__text_pipeline__vect__min_df\n",
      "features__text_pipeline__vect__ngram_range\n",
      "features__text_pipeline__vect__preprocessor\n",
      "features__text_pipeline__vect__stop_words\n",
      "features__text_pipeline__vect__strip_accents\n",
      "features__text_pipeline__vect__token_pattern\n",
      "features__text_pipeline__vect__tokenizer\n",
      "features__text_pipeline__vect__vocabulary\n",
      "features__text_pipeline__tfidf__norm\n",
      "features__text_pipeline__tfidf__smooth_idf\n",
      "features__text_pipeline__tfidf__sublinear_tf\n",
      "features__text_pipeline__tfidf__use_idf\n",
      "clf__estimator__estimator__alpha\n",
      "clf__estimator__estimator__average\n",
      "clf__estimator__estimator__class_weight\n",
      "clf__estimator__estimator__epsilon\n",
      "clf__estimator__estimator__eta0\n",
      "clf__estimator__estimator__fit_intercept\n",
      "clf__estimator__estimator__l1_ratio\n",
      "clf__estimator__estimator__learning_rate\n",
      "clf__estimator__estimator__loss\n",
      "clf__estimator__estimator__max_iter\n",
      "clf__estimator__estimator__n_iter\n",
      "clf__estimator__estimator__n_jobs\n",
      "clf__estimator__estimator__penalty\n",
      "clf__estimator__estimator__power_t\n",
      "clf__estimator__estimator__random_state\n",
      "clf__estimator__estimator__shuffle\n",
      "clf__estimator__estimator__tol\n",
      "clf__estimator__estimator__verbose\n",
      "clf__estimator__estimator__warm_start\n",
      "clf__estimator__estimator\n",
      "clf__estimator__n_jobs\n",
      "clf__estimator\n",
      "clf__n_jobs\n"
     ]
    }
   ],
   "source": [
    "# Check the list of available paramaters \n",
    "for key in pipeline.get_params().keys():\n",
    "    print(key)"
   ]
  },
  {
   "cell_type": "code",
   "execution_count": 14,
   "metadata": {},
   "outputs": [],
   "source": [
    "parameters = {\n",
    "    'features__text_pipeline__vect__ngram_range': ((1,1),(1,2),(1,3)),\n",
    "    'features__text_pipeline__tfidf__use_idf': (True, False),\n",
    "    'features__text_pipeline__tfidf__smooth_idf': (True, False),\n",
    "    'features__transformer_weights': (\n",
    "        {'text_pipeline': 1},\n",
    "        {'text_pipeline': 0.5},\n",
    "        {'text_pipeline': 0.2}\n",
    "    ),\n",
    "    'clf__estimator__estimator__n_jobs': [50],# 100, 200],\n",
    "    'clf__estimator__estimator__alpha': [0.0001] #0.001,0.01]    \n",
    "}\n",
    "\n",
    "cv = GridSearchCVProgressBar(pipeline, param_grid=parameters, verbose=1,n_jobs=-1)"
   ]
  },
  {
   "cell_type": "code",
   "execution_count": 1,
   "metadata": {},
   "outputs": [
    {
     "name": "stdout",
     "output_type": "stream",
     "text": [
      "Collecting pactools\n",
      "  Downloading https://files.pythonhosted.org/packages/a2/d7/3f49de72a91e98f0d69043a5821efa28c1e9cab322dd7aede44c9cca4c2f/pactools-0.2.0b0.tar.gz (66kB)\n",
      "\u001b[K    100% |████████████████████████████████| 71kB 2.1MB/s ta 0:00:011\n",
      "\u001b[?25hBuilding wheels for collected packages: pactools\n",
      "  Running setup.py bdist_wheel for pactools ... \u001b[?25ldone\n",
      "\u001b[?25h  Stored in directory: /root/.cache/pip/wheels/5b/a6/57/f1df50567735175243e07792baced6076d67ab30ca1c138b71\n",
      "Successfully built pactools\n",
      "Installing collected packages: pactools\n",
      "Successfully installed pactools-0.2.0b0\n",
      "\u001b[33mYou are using pip version 9.0.1, however version 18.1 is available.\n",
      "You should consider upgrading via the 'pip install --upgrade pip' command.\u001b[0m\n"
     ]
    }
   ],
   "source": [
    "!pip install pactools"
   ]
  },
  {
   "cell_type": "code",
   "execution_count": 2,
   "metadata": {},
   "outputs": [
    {
     "name": "stderr",
     "output_type": "stream",
     "text": [
      "/opt/conda/lib/python3.6/importlib/_bootstrap.py:219: RuntimeWarning: numpy.dtype size changed, may indicate binary incompatibility. Expected 96, got 88\n",
      "  return f(*args, **kwds)\n",
      "/opt/conda/lib/python3.6/importlib/_bootstrap.py:219: ImportWarning: can't resolve package from __spec__ or __package__, falling back on __name__ and __path__\n",
      "  return f(*args, **kwds)\n",
      "/opt/conda/lib/python3.6/importlib/_bootstrap.py:219: RuntimeWarning: numpy.dtype size changed, may indicate binary incompatibility. Expected 96, got 88\n",
      "  return f(*args, **kwds)\n",
      "/opt/conda/lib/python3.6/importlib/_bootstrap.py:219: ImportWarning: can't resolve package from __spec__ or __package__, falling back on __name__ and __path__\n",
      "  return f(*args, **kwds)\n"
     ]
    }
   ],
   "source": [
    "from pactools import simulate_pac\n",
    "from pactools.grid_search import ExtractDriver, AddDriverDelay\n",
    "from pactools.grid_search import DARSklearn, MultipleArray\n",
    "from pactools.grid_search import GridSearchCVProgressBar"
   ]
  },
  {
   "cell_type": "code",
   "execution_count": 15,
   "metadata": {},
   "outputs": [],
   "source": [
    "fs = 200.  # Hz\n",
    "high_fq = 50.0  # Hz\n",
    "low_fq = 5.0  # Hz\n",
    "low_fq_width = 1.0  # Hz\n",
    "\n",
    "n_epochs = 3\n",
    "n_points = 10000\n",
    "noise_level = 0.4\n",
    "\n",
    "low_sig = np.array([\n",
    "    simulate_pac(n_points=n_points, fs=fs, high_fq=high_fq, low_fq=low_fq,\n",
    "                 low_fq_width=low_fq_width, noise_level=noise_level,\n",
    "                 random_state=i) for i in range(n_epochs)\n",
    "])"
   ]
  },
  {
   "cell_type": "code",
   "execution_count": 16,
   "metadata": {},
   "outputs": [
    {
     "name": "stdout",
     "output_type": "stream",
     "text": [
      "Fitting 3 folds for each of 36 candidates, totalling 108 fits\n",
      "[........................................] 100% | 2309.01 sec | GridSearchCV \n"
     ]
    },
    {
     "name": "stderr",
     "output_type": "stream",
     "text": [
      "[ParallelProgressBar(n_jobs=-1)]: Done 108 out of 108 | elapsed: 38.5min finished\n"
     ]
    },
    {
     "data": {
      "text/plain": [
       "GridSearchCVProgressBar(cv=None, error_score='raise',\n",
       "            estimator=Pipeline(memory=None,\n",
       "     steps=[('features', FeatureUnion(n_jobs=1,\n",
       "       transformer_list=[('text_pipeline', Pipeline(memory=None,\n",
       "     steps=[('vect', CountVectorizer(analyzer='word', binary=False, decode_error='strict',\n",
       "        dtype=<class 'numpy.int64'>, encoding='utf-8', input='content',\n",
       "        lowercase=True, max_d...   shuffle=True, tol=None, verbose=0, warm_start=False),\n",
       "          n_jobs=1),\n",
       "           n_jobs=1))]),\n",
       "            fit_params=None, iid=True, n_jobs=-1,\n",
       "            param_grid={'features__text_pipeline__vect__ngram_range': ((1, 1), (1, 2), (1, 3)), 'features__text_pipeline__tfidf__use_idf': (True, False), 'features__text_pipeline__tfidf__smooth_idf': (True, False), 'features__transformer_weights': ({'text_pipeline': 1}, {'text_pipeline': 0.5}, {'text_pipeline': 0.2}), 'clf__estimator__estimator__n_jobs': [50], 'clf__estimator__estimator__alpha': [0.0001]},\n",
       "            pre_dispatch='2*n_jobs', refit=True, return_train_score='warn',\n",
       "            scoring=None, verbose=1)"
      ]
     },
     "execution_count": 16,
     "metadata": {},
     "output_type": "execute_result"
    }
   ],
   "source": [
    "import warnings; warnings.simplefilter('ignore')\n",
    "\n",
    "X = MultipleArray(low_sig, None)\n",
    "cv.fit(X_train, y_train)"
   ]
  },
  {
   "cell_type": "markdown",
   "metadata": {},
   "source": [
    "### 7. Test your model\n",
    "Show the accuracy, precision, and recall of the tuned model.  \n",
    "\n",
    "Since this project focuses on code quality, process, and  pipelines, there is no minimum performance metric needed to pass. However, make sure to fine tune your models for accuracy, precision and recall to make your project stand out - especially for your portfolio!"
   ]
  },
  {
   "cell_type": "code",
   "execution_count": 17,
   "metadata": {},
   "outputs": [],
   "source": [
    "import pickle\n",
    "filename = 'trained_model.sav'\n",
    "pickle.dump(cv, open(filename, 'wb'))"
   ]
  },
  {
   "cell_type": "code",
   "execution_count": 21,
   "metadata": {},
   "outputs": [],
   "source": [
    "def display_results(cv, y_test, y_pred):\n",
    "    labels = np.unique(y_pred)\n",
    "    \n",
    "    accuracy = (y_pred == y_test).mean()\n",
    "\n",
    "    print(\"Labels:\", labels)\n",
    "    \n",
    "    print(\"Accuracy:\", accuracy)\n",
    "    print(\"\\nBest Parameters:\", cv.best_params_)"
   ]
  },
  {
   "cell_type": "code",
   "execution_count": 22,
   "metadata": {},
   "outputs": [],
   "source": [
    "y_pred = cv.predict(X_test)"
   ]
  },
  {
   "cell_type": "code",
   "execution_count": 23,
   "metadata": {},
   "outputs": [
    {
     "name": "stdout",
     "output_type": "stream",
     "text": [
      "Labels: [0 1 2]\n",
      "Accuracy: related                   0.821483\n",
      "request                   0.906164\n",
      "offer                     0.995880\n",
      "aid_related               0.789594\n",
      "medical_help              0.922948\n",
      "medical_products          0.957278\n",
      "search_and_rescue         0.972994\n",
      "security                  0.980165\n",
      "military                  0.969637\n",
      "child_alone               1.000000\n",
      "water                     0.962923\n",
      "food                      0.954532\n",
      "shelter                   0.950259\n",
      "clothing                  0.987641\n",
      "money                     0.980317\n",
      "missing_people            0.988709\n",
      "refugees                  0.969179\n",
      "death                     0.966585\n",
      "other_aid                 0.871834\n",
      "infrastructure_related    0.932560\n",
      "transport                 0.957278\n",
      "buildings                 0.958193\n",
      "electricity               0.977571\n",
      "tools                     0.994507\n",
      "hospitals                 0.988557\n",
      "shops                     0.996033\n",
      "aid_centers               0.988862\n",
      "other_infrastructure      0.954074\n",
      "weather_related           0.874733\n",
      "floods                    0.956668\n",
      "storm                     0.943546\n",
      "fire                      0.989472\n",
      "earthquake                0.969789\n",
      "cold                      0.979707\n",
      "other_weather             0.946140\n",
      "direct_report             0.880226\n",
      "dtype: float64\n",
      "\n",
      "Best Parameters: {'clf__estimator__estimator__alpha': 0.0001, 'clf__estimator__estimator__n_jobs': 50, 'features__text_pipeline__tfidf__smooth_idf': True, 'features__text_pipeline__tfidf__use_idf': True, 'features__text_pipeline__vect__ngram_range': (1, 1), 'features__transformer_weights': {'text_pipeline': 1}}\n"
     ]
    }
   ],
   "source": [
    "display_results(cv, y_test, y_pred)"
   ]
  },
  {
   "cell_type": "markdown",
   "metadata": {},
   "source": [
    "### 8. Try improving your model further. Here are a few ideas:\n",
    "* try other machine learning algorithms\n",
    "* add other features besides the TF-IDF"
   ]
  },
  {
   "cell_type": "code",
   "execution_count": null,
   "metadata": {},
   "outputs": [],
   "source": []
  },
  {
   "cell_type": "markdown",
   "metadata": {},
   "source": [
    "### 9. Export your model as a pickle file"
   ]
  },
  {
   "cell_type": "code",
   "execution_count": null,
   "metadata": {},
   "outputs": [],
   "source": []
  },
  {
   "cell_type": "markdown",
   "metadata": {},
   "source": [
    "### 10. Use this notebook to complete `train.py`\n",
    "Use the template file attached in the Resources folder to write a script that runs the steps above to create a database and export a model based on a new dataset specified by the user."
   ]
  },
  {
   "cell_type": "code",
   "execution_count": null,
   "metadata": {},
   "outputs": [],
   "source": []
  }
 ],
 "metadata": {
  "kernelspec": {
   "display_name": "Python 3",
   "language": "python",
   "name": "python3"
  },
  "language_info": {
   "codemirror_mode": {
    "name": "ipython",
    "version": 3
   },
   "file_extension": ".py",
   "mimetype": "text/x-python",
   "name": "python",
   "nbconvert_exporter": "python",
   "pygments_lexer": "ipython3",
   "version": "3.7.1"
  }
 },
 "nbformat": 4,
 "nbformat_minor": 2
}
